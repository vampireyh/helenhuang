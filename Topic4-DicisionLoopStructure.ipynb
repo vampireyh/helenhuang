{
 "cells": [
  {
   "cell_type": "markdown",
   "metadata": {
    "slideshow": {
     "slide_type": "-"
    }
   },
   "source": [
    "# Topic4: Assignment & Decision, Loop Structure\n",
    "<p style=\"color:gray\">Ligang Zhou &nbsp;&nbsp; &nbsp;&nbsp;   School of Business&nbsp;&nbsp; &nbsp;&nbsp;     Macau University of Science and Technology </p>"
   ]
  },
  {
   "cell_type": "markdown",
   "metadata": {
    "slideshow": {
     "slide_type": "slide"
    }
   },
   "source": [
    "<big> $\\bullet$ A program always consists of assignment, decision structures, loop structures. </big> <br>\n"
   ]
  },
  {
   "cell_type": "markdown",
   "metadata": {},
   "source": [
    "## $\\triangleright$ Assignment Statements (赋值语句）"
   ]
  },
  {
   "cell_type": "markdown",
   "metadata": {},
   "source": [
    "<big> $\\bullet$ Assignments create object references. </big> <br>\n",
    "<big> $\\bullet$ Names are created when first assigned. </big> <br>\n",
    "<big> $\\bullet$ Names must be assigned before being referenced. </big> <br>\n",
    "<big> $\\bullet$ Some operations perform assignments implicitly. </big> <br>\n"
   ]
  },
  {
   "cell_type": "markdown",
   "metadata": {},
   "source": [
    "### $\\circ$ Assignment statement forms"
   ]
  },
  {
   "cell_type": "raw",
   "metadata": {},
   "source": [
    "  Operation                             Interpretation\n",
    "---------------------------------------------------------------------------\n",
    "spam = 'Spam'                     Basic form\n",
    "spam, ham = 'yum', 'YUM'          Tuple assignment (positional)\n",
    "[spam, ham] = ['yum', 'YUM']      List assignment (positional)\n",
    "a, b, c, d = 'spam'               Sequence assignment, generalized\n",
    "a, *b = 'spam'                    Extended sequence unpacking (Python 3.X)\n",
    "spam = ham = 'lunch'              Multiple-target assignment\n",
    "spams += 42                       Augmented assignment \n",
    "----------------------------------------------------------------------------\n"
   ]
  },
  {
   "cell_type": "markdown",
   "metadata": {},
   "source": [
    "### $\\circ$ Assignment in Action"
   ]
  },
  {
   "cell_type": "code",
   "execution_count": 1,
   "metadata": {},
   "outputs": [
    {
     "data": {
      "text/plain": [
       "(1, [2, 3, 4])"
      ]
     },
     "execution_count": 1,
     "metadata": {},
     "output_type": "execute_result"
    }
   ],
   "source": [
    "seq = [1, 2, 3, 4]\n",
    "a, *b = seq\n",
    "a, b"
   ]
  },
  {
   "cell_type": "code",
   "execution_count": 2,
   "metadata": {},
   "outputs": [
    {
     "data": {
      "text/plain": [
       "(1, 2)"
      ]
     },
     "execution_count": 2,
     "metadata": {},
     "output_type": "execute_result"
    }
   ],
   "source": [
    "a = b = 1\n",
    "b = b + 1\n",
    "a, b"
   ]
  },
  {
   "cell_type": "code",
   "execution_count": 13,
   "metadata": {
    "scrolled": false
   },
   "outputs": [
    {
     "name": "stdout",
     "output_type": "stream",
     "text": [
      "(2, 3) (2, 3)\n"
     ]
    }
   ],
   "source": [
    "a = (2,3)\n",
    "b =  a\n",
    "# a = \n",
    "# b = a.copy()\n",
    "\n",
    "# a.append(2)\n",
    "print(a, b)\n",
    "# b.append(3)\n",
    "# print(a, b)"
   ]
  },
  {
   "cell_type": "code",
   "execution_count": null,
   "metadata": {},
   "outputs": [],
   "source": []
  },
  {
   "cell_type": "markdown",
   "metadata": {},
   "source": [
    "## $\\triangleright$ Decision Structure (判断结构） "
   ]
  },
  {
   "cell_type": "markdown",
   "metadata": {},
   "source": [
    "<big style=\"color:green\"> How to calculate the absolute value of a real number? </big> <br>\n",
    "<p>$$ |x| = \\left\\{ \\begin{array}{ll}\n",
    "         x & \\mbox{if $x \\geq 0$};\\\\\n",
    "        -x & \\mbox{if $x < 0$}.\\end{array} \\right.  $$ </p>"
   ]
  },
  {
   "cell_type": "markdown",
   "metadata": {},
   "source": [
    "### $\\circ$ General Format"
   ]
  },
  {
   "cell_type": "raw",
   "metadata": {},
   "source": [
    "if condition1:\n",
    "    statements block 1\n",
    "elif condition2:\n",
    "    statements block 2\n",
    "else:\n",
    "    statements block 3"
   ]
  },
  {
   "cell_type": "markdown",
   "metadata": {},
   "source": [
    "### $\\circ$ Decision Structure in Action"
   ]
  },
  {
   "cell_type": "code",
   "execution_count": 15,
   "metadata": {
    "scrolled": true
   },
   "outputs": [
    {
     "name": "stdout",
     "output_type": "stream",
     "text": [
      "Please input a real number:-35\n",
      "The |-35.0| = 35.0\n"
     ]
    }
   ],
   "source": [
    "# Calculate the absolute value of an input number\n",
    "x = input(\"Please input a real number:\")\n",
    "x = float(x)\n",
    "if x >= 0:\n",
    "    absx = x\n",
    "else:\n",
    "    absx = -x\n",
    "print(\"The |{0}| = {1}\".format(x, absx)) "
   ]
  },
  {
   "cell_type": "code",
   "execution_count": 22,
   "metadata": {},
   "outputs": [
    {
     "name": "stdout",
     "output_type": "stream",
     "text": [
      "Please input the name of a stock:IBM\n",
      "The price of IBM is 140\n"
     ]
    }
   ],
   "source": [
    "# Show the price of a selected stock\n",
    "sps = {'IBM':140, 'CSCO':43, 'INTC': 52, \"WMT\":85}\n",
    "stock = input(\"Please input the name of a stock:\")\n",
    "if stock == 'IBM':\n",
    "    print(\"The price of {0} is {1}\".format(stock,sps[stock]))\n",
    "elif stock == 'CSCO':\n",
    "    print(\"The price of {0} is {1}\".format(stock,sps[stock]))\n",
    "elif stock == 'INTC':\n",
    "    print(\"The price of {0} is {1}\".format(stock,sps[stock]))\n",
    "elif stock == 'WMT':\n",
    "    print(\"The price of {0} is {1}\".format(stock,sps[stock]))\n",
    "else:\n",
    "    print(\"No information for the stock.\")\n",
    " "
   ]
  },
  {
   "cell_type": "code",
   "execution_count": 29,
   "metadata": {},
   "outputs": [
    {
     "name": "stdout",
     "output_type": "stream",
     "text": [
      "Please input the name of a stock:csco\n",
      "The price of CSCO is 43\n"
     ]
    }
   ],
   "source": [
    "sps = {'IBM':140, 'CSCO':43, 'INTC': 52, \"WMT\":85}\n",
    "stock = input(\"Please input the name of a stock:\")\n",
    "stock = str(stock).upper()\n",
    "if stock in sps:\n",
    "    print(\"The price of {0} is {1}\".format(stock,sps[stock]))\n",
    "else:\n",
    "    print(\"No information for the stock.\")"
   ]
  },
  {
   "cell_type": "code",
   "execution_count": 21,
   "metadata": {},
   "outputs": [
    {
     "data": {
      "text/plain": [
       "True"
      ]
     },
     "execution_count": 21,
     "metadata": {},
     "output_type": "execute_result"
    }
   ],
   "source": [
    "sps = {'IBM':140, 'CSCO':43, 'INTC': 52, \"WMT\":85}"
   ]
  },
  {
   "cell_type": "code",
   "execution_count": 9,
   "metadata": {},
   "outputs": [
    {
     "name": "stdout",
     "output_type": "stream",
     "text": [
      "Please input the name of a stock:ibm\n",
      "The price of IBM is: 140\n"
     ]
    }
   ],
   "source": [
    "# Show the price of a selected stock\n",
    "sps = {'IBM':140, 'CSCO':43, 'INTC': 52, \"WMT\":85}\n",
    "stock = input(\"Please input the name of a stock:\").upper()\n",
    "if stock in sps.keys():\n",
    "    print(\"The price of {0} is: {1}\".format(stock, sps[stock]))\n",
    "else:\n",
    "    print(\"We have no stock price for {0}\".format(stock))"
   ]
  },
  {
   "cell_type": "markdown",
   "metadata": {},
   "source": [
    "## $\\triangleright$ Loop Structure （循环结构） "
   ]
  },
  {
   "cell_type": "markdown",
   "metadata": {},
   "source": [
    "<big style=\"color:green\">Question: How to calculate value of following mathematical expression:? </big> <br>\n",
    "<p>$$ 1^2 + 2^2 + \\cdots + 100^2 $$ </p>"
   ]
  },
  {
   "cell_type": "markdown",
   "metadata": {},
   "source": [
    "### $\\circ$ while Loop General  Format"
   ]
  },
  {
   "cell_type": "raw",
   "metadata": {},
   "source": [
    "while condition1:\n",
    "    statements block 1\n",
    "else:\n",
    "    statements block 2"
   ]
  },
  {
   "cell_type": "markdown",
   "metadata": {},
   "source": [
    "### $\\circ$ while Loop More General  Format"
   ]
  },
  {
   "cell_type": "raw",
   "metadata": {},
   "source": [
    "while condition1:\n",
    "    statements block 1\n",
    "    if condition2: break\n",
    "    if condition3: continue\n",
    "else:\n",
    "    statements block 2"
   ]
  },
  {
   "cell_type": "markdown",
   "metadata": {},
   "source": [
    "<big> break </big> <br>\n",
    "<p> Jumps out of the closest enclosing loop (past the entire loop statement)</p> \n",
    "<big> continue</big> <br> \n",
    "<p> Jumps to the top of the closest enclosing loop (to the loop’s header line) </p> <big>pass</big> <br>\n",
    "<p>Does nothing at all: it’s an empty statement placeholder</p>\n",
    "<big> Loop else block </big> <br>\n",
    "<p> Runs if and only if the loop is exited normally (i.e., without hitting a break) </p>\n"
   ]
  },
  {
   "cell_type": "markdown",
   "metadata": {},
   "source": [
    "### $\\circ$ Loop Structure in Action"
   ]
  },
  {
   "cell_type": "code",
   "execution_count": 2,
   "metadata": {},
   "outputs": [
    {
     "name": "stdout",
     "output_type": "stream",
     "text": [
      "The total is: 338350\n"
     ]
    }
   ],
   "source": [
    "# Calculate the sum of square of 1, 2, ..., 100.\n",
    "i = 1\n",
    "sum = 0\n",
    "while i <= 100:\n",
    "    sum = sum + i**2\n",
    "    i = i + 1\n",
    "print(\"The total is: {0}\".format(sum))"
   ]
  },
  {
   "cell_type": "markdown",
   "metadata": {},
   "source": [
    "<big style=\"color:green\">Question: Input a integer $n$, calculate value of square sum of all odds less then or equal to $n$. </big> <br>\n",
    "<p>$$ 1^2 + 3^2 + \\cdots + n^2 $$ </p>"
   ]
  },
  {
   "cell_type": "code",
   "execution_count": 31,
   "metadata": {
    "scrolled": true
   },
   "outputs": [
    {
     "name": "stdout",
     "output_type": "stream",
     "text": [
      "Please input a integer(n>=1):5000\n",
      "The sum of square of odds less than 5000 is 20833332500\n"
     ]
    }
   ],
   "source": [
    "# Calculate the sum of square of all odds less than or equal to n.\n",
    "n = input(\"Please input a integer(n>=1):\")\n",
    "n = int(n)\n",
    "i = 1\n",
    "sum = 0\n",
    "while True:\n",
    "    if i > n:\n",
    "        break\n",
    "    if i%2 != 0:    \n",
    "        sum = sum + i**2 \n",
    "    i = i + 1\n",
    "print(\"The sum of square of odds less than {0} is {1}\".format(n, sum))        "
   ]
  },
  {
   "cell_type": "markdown",
   "metadata": {},
   "source": [
    "### $\\circ$ for Loop General  Format"
   ]
  },
  {
   "cell_type": "raw",
   "metadata": {},
   "source": [
    "for item in items:\n",
    "    statements block 1\n",
    "else:\n",
    "    statements block 2"
   ]
  },
  {
   "cell_type": "markdown",
   "metadata": {},
   "source": [
    "### $\\circ$ for Loop More General  Format"
   ]
  },
  {
   "cell_type": "raw",
   "metadata": {},
   "source": [
    "for item in items:\n",
    "    statements block 1\n",
    "    if condition2: break\n",
    "    if condition3: continue\n",
    "else:\n",
    "    statements block 2"
   ]
  },
  {
   "cell_type": "code",
   "execution_count": 5,
   "metadata": {},
   "outputs": [
    {
     "name": "stdout",
     "output_type": "stream",
     "text": [
      "IBM stock price is: 140\n",
      "CSCO stock price is: 43\n",
      "INTC stock price is: 52\n",
      "WMT stock price is: 85\n"
     ]
    }
   ],
   "source": [
    "sps = {'IBM':140, 'CSCO':43, 'INTC': 52, \"WMT\":85}\n",
    "for stock in sps.keys():\n",
    "    print(\"{0} stock price is: {1}\".format(stock, sps[stock]))"
   ]
  },
  {
   "cell_type": "code",
   "execution_count": 9,
   "metadata": {},
   "outputs": [
    {
     "name": "stdout",
     "output_type": "stream",
     "text": [
      "CSCO price is found to be: 43\n",
      "MSFT price cannot be found!\n"
     ]
    }
   ],
   "source": [
    "sps = {'IBM':140, 'CSCO':43, 'INTC': 52, \"WMT\":85}\n",
    "selected = ['CSCO', 'MSFT']\n",
    "for stock in selected:\n",
    "    for key in sps.keys():\n",
    "        if stock == key:\n",
    "            print(\"{0} price is found to be: {1}\".format(stock, sps[stock]))\n",
    "            break\n",
    "    else: # check all keys but cannot find\n",
    "        print(\"{0} price cannot be found!\".format(stock))\n",
    "    "
   ]
  },
  {
   "cell_type": "code",
   "execution_count": 12,
   "metadata": {},
   "outputs": [
    {
     "name": "stdout",
     "output_type": "stream",
     "text": [
      "Please input a integer(n>=1):100\n",
      "The total is:338350\n"
     ]
    }
   ],
   "source": [
    "# revisit the calculation of sum of squares\n",
    "n = input(\"Please input a integer(n>=1):\")\n",
    "n = int(n)\n",
    "sum = 0\n",
    "for i in range(1, n+1):\n",
    "    sum = sum + i**2\n",
    "print(\"The total is:{0}\".format(sum))    "
   ]
  },
  {
   "cell_type": "markdown",
   "metadata": {},
   "source": [
    "<u> Classwork & Homework</u> <br>\n",
    "<p style=\"color:green\"> Submit your solution in Jupyter Notebook .ipynb file</p>\n",
    "<p> 1.Write a program which will find all such numbers which are divisible by 7 but are not a multiple of 10, between 1000 and 3200 (both included). The numbers obtained should be printed in a comma-separated sequence on a single line. <br>\n",
    "    \n",
    "<p> 2. Write a program to generate $9\\times9$ multiplication table. the output is like: <br></p>\n",
    "  <img src=\"Fig-multipletable.PNG\">    \n",
    "<p> 3. Write a program that accepts a sentence and calculate the number of words and numbers. <br>\n",
    "Suppose the following input is supplied to the program: <br>\n",
    "hello world! 123 <br>\n",
    "Then, the output should be: <br>\n",
    "Words: 2<br>\n",
    "Numbers: 1.  <br> </p>\n",
    "<p> 4. Write a program which require users input a string  of \"yes\" or \"YES\" or \"Yes\", otherwise repeat show hint \"Please input yes!\". \n",
    "\n"
   ]
  },
  {
   "cell_type": "code",
   "execution_count": 3,
   "metadata": {},
   "outputs": [
    {
     "name": "stdout",
     "output_type": "stream",
     "text": [
      "1001,1008,1015,1022,1029,1036,1043,1057,1064,1071,1078,1085,1092,1099,1106,1113,1127,1134,1141,1148,1155,1162,1169,1176,1183,1197,1204,1211,1218,1225,1232,1239,1246,1253,1267,1274,1281,1288,1295,1302,1309,1316,1323,1337,1344,1351,1358,1365,1372,1379,1386,1393,1407,1414,1421,1428,1435,1442,1449,1456,1463,1477,1484,1491,1498,1505,1512,1519,1526,1533,1547,1554,1561,1568,1575,1582,1589,1596,1603,1617,1624,1631,1638,1645,1652,1659,1666,1673,1687,1694,1701,1708,1715,1722,1729,1736,1743,1757,1764,1771,1778,1785,1792,1799,1806,1813,1827,1834,1841,1848,1855,1862,1869,1876,1883,1897,1904,1911,1918,1925,1932,1939,1946,1953,1967,1974,1981,1988,1995,2002,2009,2016,2023,2037,2044,2051,2058,2065,2072,2079,2086,2093,2107,2114,2121,2128,2135,2142,2149,2156,2163,2177,2184,2191,2198,2205,2212,2219,2226,2233,2247,2254,2261,2268,2275,2282,2289,2296,2303,2317,2324,2331,2338,2345,2352,2359,2366,2373,2387,2394,2401,2408,2415,2422,2429,2436,2443,2457,2464,2471,2478,2485,2492,2499,2506,2513,2527,2534,2541,2548,2555,2562,2569,2576,2583,2597,2604,2611,2618,2625,2632,2639,2646,2653,2667,2674,2681,2688,2695,2702,2709,2716,2723,2737,2744,2751,2758,2765,2772,2779,2786,2793,2807,2814,2821,2828,2835,2842,2849,2856,2863,2877,2884,2891,2898,2905,2912,2919,2926,2933,2947,2954,2961,2968,2975,2982,2989,2996,3003,3017,3024,3031,3038,3045,3052,3059,3066,3073,3087,3094,3101,3108,3115,3122,3129,3136,3143,3157,3164,3171,3178,3185,3192,3199,"
     ]
    }
   ],
   "source": [
    "# Soltion to Q1. \n",
    "for i in range(1000, 3201):\n",
    "    if i % 7 == 0 and i % 10 != 0:\n",
    "        print(i, end=',')\n",
    "    "
   ]
  },
  {
   "cell_type": "code",
   "execution_count": 8,
   "metadata": {},
   "outputs": [
    {
     "name": "stdout",
     "output_type": "stream",
     "text": [
      "1×1=1  \n",
      "\n",
      "1×2=2  2×2=4  \n",
      "\n",
      "1×3=3  2×3=6  3×3=9  \n",
      "\n",
      "1×4=4  2×4=8  3×4=12 4×4=16 \n",
      "\n",
      "1×5=5  2×5=10 3×5=15 4×5=20 5×5=25 \n",
      "\n",
      "1×6=6  2×6=12 3×6=18 4×6=24 5×6=30 6×6=36 \n",
      "\n",
      "1×7=7  2×7=14 3×7=21 4×7=28 5×7=35 6×7=42 7×7=49 \n",
      "\n",
      "1×8=8  2×8=16 3×8=24 4×8=32 5×8=40 6×8=48 7×8=56 8×8=64 \n",
      "\n"
     ]
    }
   ],
   "source": [
    "# Solution to Q2\n",
    "def multipletable(n):\n",
    "    for i in range(1,n+1):\n",
    "        for j in range(1,i+1):\n",
    "#         print(\"{0:2d}×{1}={2:<2d}\".format(j,i,i*j), end=' ')\n",
    "          print(f\"{j}×{i}={i*j:<2d}\", end=' ')\n",
    "        print(\"\\n\")\n",
    "    \n",
    "    \n",
    "multipletable(8)\n"
   ]
  },
  {
   "cell_type": "code",
   "execution_count": null,
   "metadata": {},
   "outputs": [],
   "source": [
    "# Soltion to Q3\n",
    "s0 = input(\"Please input a sentence: \")\n",
    "nword = 0\n",
    "nnum = 0\n",
    "wordnums = s0.split(' ')\n",
    "for i in wordnums:\n",
    "    if i.isalpha():\n",
    "        nword = nword + 1\n",
    "    if i.isnumeric():\n",
    "        nnum = nnum + 1\n",
    "        \n",
    "print(f\"The number of words is {nword}\\n The number of number is {nnum}\")"
   ]
  },
  {
   "cell_type": "code",
   "execution_count": null,
   "metadata": {},
   "outputs": [],
   "source": [
    "while True:\n",
    "    s0 = input(\"Please input yes: \")\n",
    "    if s0 in ['yes', 'YES', 'Yes']:\n",
    "        print(f\"your input is {s0}\\n\")\n",
    "        break;\n",
    "    else:\n",
    "        print(\"Please input yes!\")\n",
    "       \n",
    "        "
   ]
  }
 ],
 "metadata": {
  "kernelspec": {
   "display_name": "Python 3",
   "language": "python",
   "name": "python3"
  },
  "language_info": {
   "codemirror_mode": {
    "name": "ipython",
    "version": 3
   },
   "file_extension": ".py",
   "mimetype": "text/x-python",
   "name": "python",
   "nbconvert_exporter": "python",
   "pygments_lexer": "ipython3",
   "version": "3.6.5"
  }
 },
 "nbformat": 4,
 "nbformat_minor": 2
}
